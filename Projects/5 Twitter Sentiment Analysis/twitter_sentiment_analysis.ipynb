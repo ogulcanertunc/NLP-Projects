{
 "cells": [
  {
   "cell_type": "markdown",
   "metadata": {
    "colab_type": "text",
    "id": "Voiq4UffOEou"
   },
   "source": [
    "# 1) Importing the Libraries\n",
    "---"
   ]
  },
  {
   "cell_type": "markdown",
   "metadata": {
    "colab_type": "text",
    "id": "zIjgcRqhOkZn"
   },
   "source": [
    "**Access Token:**    \n",
    "****\n",
    "**Access token secret:**    \n",
    "***\n",
    "**API key:**  \n",
    "****  \n",
    "**API Secret key:**  \n",
    "****"
   ]
  },
  {
   "cell_type": "code",
   "execution_count": 1,
   "metadata": {
    "colab": {},
    "colab_type": "code",
    "id": "KqQsPv3KLzve"
   },
   "outputs": [],
   "source": [
    "from textblob import TextBlob\n",
    "import tweepy\n",
    "import matplotlib.pyplot as plt"
   ]
  },
  {
   "cell_type": "markdown",
   "metadata": {
    "colab_type": "text",
    "id": "L6tjAAjbPS-8"
   },
   "source": [
    "# 2) Connecting with the Twitter API\n",
    "---"
   ]
  },
  {
   "cell_type": "code",
   "execution_count": 1,
   "metadata": {
    "colab": {},
    "colab_type": "code",
    "id": "aRwZNs6MPO9T"
   },
   "outputs": [],
   "source": [
    "consumer_key = \"***\" # API key\n",
    "consumer_secret = \"***\"\n",
    "\n",
    "access_token = \"***-***\"\n",
    "access_token_secret = \"***\""
   ]
  },
  {
   "cell_type": "code",
   "execution_count": 68,
   "metadata": {
    "colab": {},
    "colab_type": "code",
    "id": "qtZ0ctH7Pqic"
   },
   "outputs": [],
   "source": [
    "auth = tweepy.OAuthHandler(consumer_key, consumer_secret)\n",
    "auth.set_access_token(access_token, access_token_secret)\n",
    "\n",
    "api = tweepy.API(auth)"
   ]
  },
  {
   "cell_type": "code",
   "execution_count": 69,
   "metadata": {
    "colab": {
     "base_uri": "https://localhost:8080/",
     "height": 34
    },
    "colab_type": "code",
    "id": "etqcR3F0P2z7",
    "outputId": "aa47bf98-3747-4bda-d58c-5a421ee57dd2"
   },
   "outputs": [
    {
     "data": {
      "text/plain": [
       "tweepy.api.API"
      ]
     },
     "execution_count": 69,
     "metadata": {
      "tags": []
     },
     "output_type": "execute_result"
    }
   ],
   "source": [
    "type(api)"
   ]
  },
  {
   "cell_type": "code",
   "execution_count": 70,
   "metadata": {
    "colab": {},
    "colab_type": "code",
    "id": "IFAl2ZuGP8Qf"
   },
   "outputs": [],
   "source": [
    "search_term = \"Money Heist\"\n",
    "no_of_tweets = 1000"
   ]
  },
  {
   "cell_type": "code",
   "execution_count": 71,
   "metadata": {
    "colab": {},
    "colab_type": "code",
    "id": "3bliVsZMQDvA"
   },
   "outputs": [],
   "source": [
    "tweets = tweepy.Cursor(api.search, q = search_term).items(no_of_tweets)"
   ]
  },
  {
   "cell_type": "code",
   "execution_count": 72,
   "metadata": {
    "colab": {
     "base_uri": "https://localhost:8080/",
     "height": 34
    },
    "colab_type": "code",
    "id": "THHtPsWEQNpb",
    "outputId": "ec9289f0-dc08-4de8-89d7-e14100c69164"
   },
   "outputs": [
    {
     "name": "stdout",
     "output_type": "stream",
     "text": [
      "<tweepy.cursor.ItemIterator object at 0x7fdd11a26080>\n"
     ]
    }
   ],
   "source": [
    "print(tweets)"
   ]
  },
  {
   "cell_type": "code",
   "execution_count": 72,
   "metadata": {
    "colab": {},
    "colab_type": "code",
    "id": "5ovKdcIcQPqb"
   },
   "outputs": [],
   "source": []
  },
  {
   "cell_type": "markdown",
   "metadata": {
    "colab_type": "text",
    "id": "F46C1nMtQVXU"
   },
   "source": [
    "## 3) Understanding the working of TextBlob (BONUS)\n",
    "---"
   ]
  },
  {
   "cell_type": "code",
   "execution_count": 73,
   "metadata": {
    "colab": {},
    "colab_type": "code",
    "id": "z3RT9_MCQbMx"
   },
   "outputs": [],
   "source": [
    "a = \"I am a bad Cricket player\"\n",
    "b = \"I am a good Cricket player\"\n",
    "c = \"I am a Cricket player\""
   ]
  },
  {
   "cell_type": "code",
   "execution_count": 74,
   "metadata": {
    "colab": {
     "base_uri": "https://localhost:8080/",
     "height": 34
    },
    "colab_type": "code",
    "id": "ED-k50IwQiif",
    "outputId": "d9c15f45-1bc9-421a-eef7-a3315c4e9b2e"
   },
   "outputs": [
    {
     "data": {
      "text/plain": [
       "Sentiment(polarity=-0.6999999999999998, subjectivity=0.6666666666666666)"
      ]
     },
     "execution_count": 74,
     "metadata": {
      "tags": []
     },
     "output_type": "execute_result"
    }
   ],
   "source": [
    "TextBlob(a).sentiment"
   ]
  },
  {
   "cell_type": "code",
   "execution_count": 75,
   "metadata": {
    "colab": {
     "base_uri": "https://localhost:8080/",
     "height": 34
    },
    "colab_type": "code",
    "id": "pMiEbqGpQla3",
    "outputId": "5a2f2332-40e0-4838-b078-e2f5b3664c2b"
   },
   "outputs": [
    {
     "data": {
      "text/plain": [
       "-0.6999999999999998"
      ]
     },
     "execution_count": 75,
     "metadata": {
      "tags": []
     },
     "output_type": "execute_result"
    }
   ],
   "source": [
    "TextBlob(a).sentiment.polarity"
   ]
  },
  {
   "cell_type": "code",
   "execution_count": 76,
   "metadata": {
    "colab": {
     "base_uri": "https://localhost:8080/",
     "height": 34
    },
    "colab_type": "code",
    "id": "ll_L6tWRQoey",
    "outputId": "14507434-5a45-41e6-d111-abab5dcc74c2"
   },
   "outputs": [
    {
     "data": {
      "text/plain": [
       "0.7"
      ]
     },
     "execution_count": 76,
     "metadata": {
      "tags": []
     },
     "output_type": "execute_result"
    }
   ],
   "source": [
    "TextBlob(b).sentiment.polarity"
   ]
  },
  {
   "cell_type": "code",
   "execution_count": 77,
   "metadata": {
    "colab": {
     "base_uri": "https://localhost:8080/",
     "height": 34
    },
    "colab_type": "code",
    "id": "CPTclN_HQqRJ",
    "outputId": "75f793bf-a763-43da-af5b-9f0122baa3f3"
   },
   "outputs": [
    {
     "data": {
      "text/plain": [
       "0.0"
      ]
     },
     "execution_count": 77,
     "metadata": {
      "tags": []
     },
     "output_type": "execute_result"
    }
   ],
   "source": [
    "TextBlob(c).sentiment.polarity"
   ]
  },
  {
   "cell_type": "markdown",
   "metadata": {
    "colab_type": "text",
    "id": "_UjDqZluQskp"
   },
   "source": [
    "As we can see, If polarity score is close to 1 it means it is positive, but if its close to -1 it means negative"
   ]
  },
  {
   "cell_type": "markdown",
   "metadata": {
    "colab_type": "text",
    "id": "n5XU9qjvQ1dW"
   },
   "source": [
    "# 4) Iterate the data and convert the result in percentage\n",
    "---"
   ]
  },
  {
   "cell_type": "code",
   "execution_count": 78,
   "metadata": {
    "colab": {},
    "colab_type": "code",
    "id": "5cfyz_UyQrYH"
   },
   "outputs": [],
   "source": [
    "positive = 0\n",
    "negative = 0\n",
    "neutral  = 0\n",
    "polarity = 0"
   ]
  },
  {
   "cell_type": "code",
   "execution_count": 79,
   "metadata": {
    "colab": {},
    "colab_type": "code",
    "id": "ghlUtquPRAUH"
   },
   "outputs": [],
   "source": [
    "for tweet in tweets:\n",
    "  analysis = TextBlob(tweet.text)\n",
    "  polarity += analysis.sentiment.polarity\n",
    "  if (analysis.sentiment.polarity == 0):\n",
    "    neutral += 1\n",
    "\n",
    "  elif (analysis.sentiment.polarity < 0.00):\n",
    "    negative += 1\n",
    "  \n",
    "  elif (analysis.sentiment.polarity > 0.00):\n",
    "    positive += 1\n",
    "    "
   ]
  },
  {
   "cell_type": "code",
   "execution_count": 80,
   "metadata": {
    "colab": {
     "base_uri": "https://localhost:8080/",
     "height": 34
    },
    "colab_type": "code",
    "id": "oPcCxiIDRFDn",
    "outputId": "9cf5e420-ea7f-4d6c-dabf-3de3b77d9035"
   },
   "outputs": [
    {
     "data": {
      "text/plain": [
       "206"
      ]
     },
     "execution_count": 80,
     "metadata": {
      "tags": []
     },
     "output_type": "execute_result"
    }
   ],
   "source": [
    "positive"
   ]
  },
  {
   "cell_type": "code",
   "execution_count": 81,
   "metadata": {
    "colab": {
     "base_uri": "https://localhost:8080/",
     "height": 34
    },
    "colab_type": "code",
    "id": "qyiAGJBuSgtv",
    "outputId": "f45ea8ec-46f2-4be5-cfb5-1e694fd61777"
   },
   "outputs": [
    {
     "data": {
      "text/plain": [
       "42"
      ]
     },
     "execution_count": 81,
     "metadata": {
      "tags": []
     },
     "output_type": "execute_result"
    }
   ],
   "source": [
    "negative"
   ]
  },
  {
   "cell_type": "code",
   "execution_count": 82,
   "metadata": {
    "colab": {
     "base_uri": "https://localhost:8080/",
     "height": 34
    },
    "colab_type": "code",
    "id": "6nOJWXBrSkbq",
    "outputId": "ce6b7d3d-45c9-4aac-b17e-a3c5576cdafa"
   },
   "outputs": [
    {
     "data": {
      "text/plain": [
       "752"
      ]
     },
     "execution_count": 82,
     "metadata": {
      "tags": []
     },
     "output_type": "execute_result"
    }
   ],
   "source": [
    "neutral"
   ]
  },
  {
   "cell_type": "code",
   "execution_count": 83,
   "metadata": {
    "colab": {
     "base_uri": "https://localhost:8080/",
     "height": 34
    },
    "colab_type": "code",
    "id": "DrTx6KVDSrR5",
    "outputId": "06a9ddaf-44f7-4800-d584-57f3e8ede477"
   },
   "outputs": [
    {
     "data": {
      "text/plain": [
       "65.06545604858105"
      ]
     },
     "execution_count": 83,
     "metadata": {
      "tags": []
     },
     "output_type": "execute_result"
    }
   ],
   "source": [
    "polarity"
   ]
  },
  {
   "cell_type": "markdown",
   "metadata": {
    "colab_type": "text",
    "id": "B5gG4iZBSvCQ"
   },
   "source": [
    "So when we see this scores, it can be complicated, we need normalization "
   ]
  },
  {
   "cell_type": "code",
   "execution_count": 54,
   "metadata": {
    "colab": {},
    "colab_type": "code",
    "id": "4k2dZhqpSsMZ"
   },
   "outputs": [],
   "source": [
    "# Define a function to calculate the percentage\n",
    "def percentage(part, whole):\n",
    "  return 100 * float(part)/float(whole)"
   ]
  },
  {
   "cell_type": "code",
   "execution_count": 91,
   "metadata": {
    "colab": {},
    "colab_type": "code",
    "id": "FRTvB-RTTAot"
   },
   "outputs": [],
   "source": [
    "positive_n = percentage(positive, no_of_tweets)\n",
    "negative_n = percentage(negative, no_of_tweets)\n",
    "neutral_n = percentage(neutral,   no_of_tweets)\n",
    "polarity_n = percentage(polarity, no_of_tweets)"
   ]
  },
  {
   "cell_type": "code",
   "execution_count": 92,
   "metadata": {
    "colab": {},
    "colab_type": "code",
    "id": "uQJbLTgYTNSv"
   },
   "outputs": [],
   "source": [
    "# Lets add more detail\n",
    "positive_n = format(positive_n, '.2f')\n",
    "negative_n = format(negative_n, '.2f')\n",
    "neutral_n  = format(neutral_n,  '.2f')"
   ]
  },
  {
   "cell_type": "code",
   "execution_count": 93,
   "metadata": {
    "colab": {
     "base_uri": "https://localhost:8080/",
     "height": 35
    },
    "colab_type": "code",
    "id": "3iezegxKTY7g",
    "outputId": "8258b2c4-8140-425a-87bc-c573940d59cc"
   },
   "outputs": [
    {
     "data": {
      "application/vnd.google.colaboratory.intrinsic+json": {
       "type": "string"
      },
      "text/plain": [
       "'20.60'"
      ]
     },
     "execution_count": 93,
     "metadata": {
      "tags": []
     },
     "output_type": "execute_result"
    }
   ],
   "source": [
    "positive_n"
   ]
  },
  {
   "cell_type": "code",
   "execution_count": 94,
   "metadata": {
    "colab": {
     "base_uri": "https://localhost:8080/",
     "height": 35
    },
    "colab_type": "code",
    "id": "hQE_r8ftT8ix",
    "outputId": "e6807147-a4df-4e61-9067-8b740cbcf241"
   },
   "outputs": [
    {
     "data": {
      "application/vnd.google.colaboratory.intrinsic+json": {
       "type": "string"
      },
      "text/plain": [
       "'4.20'"
      ]
     },
     "execution_count": 94,
     "metadata": {
      "tags": []
     },
     "output_type": "execute_result"
    }
   ],
   "source": [
    "negative_n"
   ]
  },
  {
   "cell_type": "code",
   "execution_count": 95,
   "metadata": {
    "colab": {
     "base_uri": "https://localhost:8080/",
     "height": 35
    },
    "colab_type": "code",
    "id": "Buw-fHs4T9fb",
    "outputId": "a966c042-4490-48b3-d1c0-d8eed061d4ad"
   },
   "outputs": [
    {
     "data": {
      "application/vnd.google.colaboratory.intrinsic+json": {
       "type": "string"
      },
      "text/plain": [
       "'75.20'"
      ]
     },
     "execution_count": 95,
     "metadata": {
      "tags": []
     },
     "output_type": "execute_result"
    }
   ],
   "source": [
    "neutral_n"
   ]
  },
  {
   "cell_type": "code",
   "execution_count": 96,
   "metadata": {
    "colab": {
     "base_uri": "https://localhost:8080/",
     "height": 50
    },
    "colab_type": "code",
    "id": "Muh2_VBvT-WQ",
    "outputId": "52c6b79c-11d5-4376-d642-7f9ec71f394b"
   },
   "outputs": [
    {
     "name": "stdout",
     "output_type": "stream",
     "text": [
      "Reaction of the people on Money Heist By analyzing 1000 Tweets\n",
      " is 'Positive' and its score is : 20.60\n"
     ]
    }
   ],
   "source": [
    "print(\"Reaction of the people on \" + search_term\n",
    "      + \" By analyzing \" + str(no_of_tweets) + \" Tweets\")\n",
    "\n",
    "if (polarity == 0):\n",
    "  print(\" is 'Neutral' and its score is : \", neutral_n)\n",
    "elif (polarity < 0):\n",
    "  print(\" is 'Negative' and its score is :\", negative_n)\n",
    "elif (polarity > 0):\n",
    "  print(\" is 'Positive' and its score is :\", positive_n)"
   ]
  },
  {
   "cell_type": "markdown",
   "metadata": {
    "colab_type": "text",
    "id": "O1AcFMDmVJYk"
   },
   "source": [
    "# 5) Getting the result of analysis\n",
    "---"
   ]
  },
  {
   "cell_type": "code",
   "execution_count": 99,
   "metadata": {
    "colab": {
     "base_uri": "https://localhost:8080/",
     "height": 297
    },
    "colab_type": "code",
    "id": "_UhNfoV-Ud7c",
    "outputId": "809da9f3-fbb8-416d-f206-9bbbb244c981"
   },
   "outputs": [
    {
     "data": {
      "image/png": "[encoded data removed]",
      "text/plain": [
       "<Figure size 432x288 with 1 Axes>"
      ]
     },
     "metadata": {
      "tags": []
     },
     "output_type": "display_data"
    }
   ],
   "source": [
    "labels = ['Positive ['+str(positive_n)+'%]',\n",
    "          'Neutral ['+str(neutral_n)+'%]',\n",
    "          'Negative ['+str(negative_n)+'%]']\n",
    "\n",
    "sizes  = [positive, neutral, negative]\n",
    "colors = ['yellowgreen', 'gold', 'red']\n",
    "\n",
    "patches, texts = plt.pie(sizes, colors = colors, startangle = 90)\n",
    "plt.legend(patches, labels, loc = 'best')\n",
    "plt.title('Reaction of the people on '\n",
    "          + search_term + ' by analyzing '\n",
    "          + str(no_of_tweets) + ' Tweet is:')\n",
    "plt.axis('equal')\n",
    "plt.tight_layout()\n",
    "plt.show()"
   ]
  },
  {
   "cell_type": "code",
   "execution_count": null,
   "metadata": {
    "colab": {},
    "colab_type": "code",
    "id": "HNqCuP0ZWkJ0"
   },
   "outputs": [],
   "source": []
  }
 ],
 "metadata": {
  "colab": {
   "collapsed_sections": [],
   "name": "twitter_sentiment_analysis.ipynb",
   "provenance": []
  },
  "kernelspec": {
   "display_name": "Python 3",
   "language": "python",
   "name": "python3"
  },
  "language_info": {
   "codemirror_mode": {
    "name": "ipython",
    "version": 3
   },
   "file_extension": ".py",
   "mimetype": "text/x-python",
   "name": "python",
   "nbconvert_exporter": "python",
   "pygments_lexer": "ipython3",
   "version": "3.7.7"
  }
 },
 "nbformat": 4,
 "nbformat_minor": 1
}