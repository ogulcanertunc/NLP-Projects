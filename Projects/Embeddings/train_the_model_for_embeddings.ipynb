{
 "cells": [
  {
   "cell_type": "markdown",
   "metadata": {
    "colab_type": "text",
    "id": "WrUDLn7g80KV"
   },
   "source": [
    "# 1) Import the libraries\n",
    "---"
   ]
  },
  {
   "cell_type": "code",
   "execution_count": 1,
   "metadata": {
    "colab": {
     "base_uri": "https://localhost:8080/",
     "height": 34
    },
    "colab_type": "code",
    "id": "OYTMOd0B8kar",
    "outputId": "cd6f804c-1f7f-4f33-9b18-f21a8e503da0"
   },
   "outputs": [
    {
     "name": "stdout",
     "output_type": "stream",
     "text": [
      "2.3.0\n"
     ]
    }
   ],
   "source": [
    "import tensorflow as tf\n",
    "print(tf.__version__)"
   ]
  },
  {
   "cell_type": "code",
   "execution_count": 2,
   "metadata": {
    "colab": {
     "base_uri": "https://localhost:8080/",
     "height": 67
    },
    "colab_type": "code",
    "id": "Mcz3HS3H86Bw",
    "outputId": "ef9c2a94-b67b-4a1a-d459-75c3c552d01b"
   },
   "outputs": [
    {
     "name": "stdout",
     "output_type": "stream",
     "text": [
      "[nltk_data] Downloading package punkt to /root/nltk_data...\n",
      "[nltk_data]   Unzipping tokenizers/punkt.zip.\n"
     ]
    },
    {
     "data": {
      "text/plain": [
       "True"
      ]
     },
     "execution_count": 2,
     "metadata": {
      "tags": []
     },
     "output_type": "execute_result"
    }
   ],
   "source": [
    "import nltk\n",
    "nltk.download('punkt')"
   ]
  },
  {
   "cell_type": "code",
   "execution_count": 3,
   "metadata": {
    "colab": {},
    "colab_type": "code",
    "id": "G9Z4TcYe89dk"
   },
   "outputs": [],
   "source": [
    "import nltk \n",
    "import pandas as pd\n",
    "import gensim \n",
    "from gensim.models import Word2Vec, KeyedVectors"
   ]
  },
  {
   "cell_type": "markdown",
   "metadata": {
    "colab_type": "text",
    "id": "76JK2auB9EAE"
   },
   "source": [
    "# 2) Data Preporcessing\n",
    "---\n",
    "I will use google pretrained model from https://www.kaggle.com/rootuser/worldnews-on-reddit"
   ]
  },
  {
   "cell_type": "code",
   "execution_count": 9,
   "metadata": {
    "colab": {},
    "colab_type": "code",
    "id": "3yUcF2u39DZ1"
   },
   "outputs": [],
   "source": [
    "# install kaggle API\n",
    "!pip install -q kaggle"
   ]
  },
  {
   "cell_type": "code",
   "execution_count": 10,
   "metadata": {
    "colab": {},
    "colab_type": "code",
    "id": "Jp1qK_jo93kS"
   },
   "outputs": [],
   "source": [
    "# create a directory as kaggle\n",
    "! mkdir -p ~/.kaggle"
   ]
  },
  {
   "cell_type": "code",
   "execution_count": 12,
   "metadata": {
    "colab": {},
    "colab_type": "code",
    "id": "dvLTQ9ET9-kv"
   },
   "outputs": [],
   "source": [
    "# copy api key to kaggle directory, I got my api from kaggle my account side\n",
    "! cp kaggle.json ~/.kaggle"
   ]
  },
  {
   "cell_type": "code",
   "execution_count": 13,
   "metadata": {
    "colab": {},
    "colab_type": "code",
    "id": "qXhMXYfp-EJB"
   },
   "outputs": [],
   "source": [
    "# disable the api key\n",
    "! chmod 600 /root/.kaggle/kaggle.json"
   ]
  },
  {
   "cell_type": "code",
   "execution_count": 15,
   "metadata": {
    "colab": {
     "base_uri": "https://localhost:8080/",
     "height": 67
    },
    "colab_type": "code",
    "id": "ppXLTJQ1-va8",
    "outputId": "f3e837c3-09ad-4304-a121-d537ad6c388c"
   },
   "outputs": [
    {
     "name": "stdout",
     "output_type": "stream",
     "text": [
      "Downloading worldnews-on-reddit.zip to /content\n",
      " 94% 25.0M/26.6M [00:00<00:00, 77.9MB/s]\n",
      "100% 26.6M/26.6M [00:00<00:00, 76.4MB/s]\n"
     ]
    }
   ],
   "source": [
    "# import the dataset\n",
    "! kaggle datasets download -d rootuser/worldnews-on-reddit"
   ]
  },
  {
   "cell_type": "code",
   "execution_count": 16,
   "metadata": {
    "colab": {
     "base_uri": "https://localhost:8080/",
     "height": 50
    },
    "colab_type": "code",
    "id": "E-qfh9tV-6aM",
    "outputId": "342d396c-e898-4400-8104-d169ace49220"
   },
   "outputs": [
    {
     "name": "stdout",
     "output_type": "stream",
     "text": [
      "Archive:  /content/worldnews-on-reddit.zip\n",
      "  inflating: reddit_worldnews_start_to_2016-11-22.csv  \n"
     ]
    }
   ],
   "source": [
    "# unzip the dataset\n",
    "! unzip /content/worldnews-on-reddit"
   ]
  },
  {
   "cell_type": "code",
   "execution_count": 17,
   "metadata": {
    "colab": {},
    "colab_type": "code",
    "id": "y01VwAIx_FZX"
   },
   "outputs": [],
   "source": [
    "df = pd.read_csv('/content/reddit_worldnews_start_to_2016-11-22.csv')"
   ]
  },
  {
   "cell_type": "code",
   "execution_count": 18,
   "metadata": {
    "colab": {
     "base_uri": "https://localhost:8080/",
     "height": 551
    },
    "colab_type": "code",
    "id": "Ao0oTOlw_Mtk",
    "outputId": "18fb650d-c90c-4658-d2f9-da4559f3e472"
   },
   "outputs": [
    {
     "data": {
      "text/html": [
       "<div>\n",
       "<style scoped>\n",
       "    .dataframe tbody tr th:only-of-type {\n",
       "        vertical-align: middle;\n",
       "    }\n",
       "\n",
       "    .dataframe tbody tr th {\n",
       "        vertical-align: top;\n",
       "    }\n",
       "\n",
       "    .dataframe thead th {\n",
       "        text-align: right;\n",
       "    }\n",
       "</style>\n",
       "<table border=\"1\" class=\"dataframe\">\n",
       "  <thead>\n",
       "    <tr style=\"text-align: right;\">\n",
       "      <th></th>\n",
       "      <th>time_created</th>\n",
       "      <th>date_created</th>\n",
       "      <th>up_votes</th>\n",
       "      <th>down_votes</th>\n",
       "      <th>title</th>\n",
       "      <th>over_18</th>\n",
       "      <th>author</th>\n",
       "      <th>subreddit</th>\n",
       "    </tr>\n",
       "  </thead>\n",
       "  <tbody>\n",
       "    <tr>\n",
       "      <th>0</th>\n",
       "      <td>1201232046</td>\n",
       "      <td>2008-01-25</td>\n",
       "      <td>3</td>\n",
       "      <td>0</td>\n",
       "      <td>Scores killed in Pakistan clashes</td>\n",
       "      <td>False</td>\n",
       "      <td>polar</td>\n",
       "      <td>worldnews</td>\n",
       "    </tr>\n",
       "    <tr>\n",
       "      <th>1</th>\n",
       "      <td>1201232075</td>\n",
       "      <td>2008-01-25</td>\n",
       "      <td>2</td>\n",
       "      <td>0</td>\n",
       "      <td>Japan resumes refuelling mission</td>\n",
       "      <td>False</td>\n",
       "      <td>polar</td>\n",
       "      <td>worldnews</td>\n",
       "    </tr>\n",
       "    <tr>\n",
       "      <th>2</th>\n",
       "      <td>1201232523</td>\n",
       "      <td>2008-01-25</td>\n",
       "      <td>3</td>\n",
       "      <td>0</td>\n",
       "      <td>US presses Egypt on Gaza border</td>\n",
       "      <td>False</td>\n",
       "      <td>polar</td>\n",
       "      <td>worldnews</td>\n",
       "    </tr>\n",
       "    <tr>\n",
       "      <th>3</th>\n",
       "      <td>1201233290</td>\n",
       "      <td>2008-01-25</td>\n",
       "      <td>1</td>\n",
       "      <td>0</td>\n",
       "      <td>Jump-start economy: Give health care to all</td>\n",
       "      <td>False</td>\n",
       "      <td>fadi420</td>\n",
       "      <td>worldnews</td>\n",
       "    </tr>\n",
       "    <tr>\n",
       "      <th>4</th>\n",
       "      <td>1201274720</td>\n",
       "      <td>2008-01-25</td>\n",
       "      <td>4</td>\n",
       "      <td>0</td>\n",
       "      <td>Council of Europe bashes EU&amp;UN terror blacklist</td>\n",
       "      <td>False</td>\n",
       "      <td>mhermans</td>\n",
       "      <td>worldnews</td>\n",
       "    </tr>\n",
       "  </tbody>\n",
       "</table>\n",
       "</div>"
      ],
      "text/plain": [
       "   time_created date_created  up_votes  ...  over_18    author  subreddit\n",
       "0    1201232046   2008-01-25         3  ...    False     polar  worldnews\n",
       "1    1201232075   2008-01-25         2  ...    False     polar  worldnews\n",
       "2    1201232523   2008-01-25         3  ...    False     polar  worldnews\n",
       "3    1201233290   2008-01-25         1  ...    False   fadi420  worldnews\n",
       "4    1201274720   2008-01-25         4  ...    False  mhermans  worldnews\n",
       "\n",
       "[5 rows x 8 columns]"
      ]
     },
     "execution_count": 18,
     "metadata": {
      "tags": []
     },
     "output_type": "execute_result"
    }
   ],
   "source": [
    "df.head()"
   ]
  },
  {
   "cell_type": "code",
   "execution_count": 19,
   "metadata": {
    "colab": {},
    "colab_type": "code",
    "id": "rT12-iYHAp2F"
   },
   "outputs": [],
   "source": [
    "# take title column \n",
    "news_titles = df['title'].values"
   ]
  },
  {
   "cell_type": "code",
   "execution_count": 20,
   "metadata": {
    "colab": {
     "base_uri": "https://localhost:8080/",
     "height": 134
    },
    "colab_type": "code",
    "id": "3C0xkO9VAtrF",
    "outputId": "336f974f-1e14-414d-d13f-8e2d55e15a54"
   },
   "outputs": [
    {
     "data": {
      "text/plain": [
       "array(['Scores killed in Pakistan clashes',\n",
       "       'Japan resumes refuelling mission',\n",
       "       'US presses Egypt on Gaza border', ...,\n",
       "       'Professor receives Arab Researchers Award',\n",
       "       'Nigel Farage attacks response to Trump ambassador tweet',\n",
       "       'Palestinian wielding knife shot dead in West Bank: Israel police'],\n",
       "      dtype=object)"
      ]
     },
     "execution_count": 20,
     "metadata": {
      "tags": []
     },
     "output_type": "execute_result"
    }
   ],
   "source": [
    "news_titles"
   ]
  },
  {
   "cell_type": "code",
   "execution_count": 21,
   "metadata": {
    "colab": {},
    "colab_type": "code",
    "id": "A8CEbUJTAuKv"
   },
   "outputs": [],
   "source": [
    "new_vec = [nltk.word_tokenize(title) for title in news_titles]"
   ]
  },
  {
   "cell_type": "code",
   "execution_count": 22,
   "metadata": {
    "colab": {
     "base_uri": "https://localhost:8080/",
     "height": 34
    },
    "colab_type": "code",
    "id": "gkHDYpz5BCRT",
    "outputId": "47a2584e-796f-4c4a-854a-c9785b77a60b"
   },
   "outputs": [
    {
     "data": {
      "text/plain": [
       "['Scores', 'killed', 'in', 'Pakistan', 'clashes']"
      ]
     },
     "execution_count": 22,
     "metadata": {
      "tags": []
     },
     "output_type": "execute_result"
    }
   ],
   "source": [
    "new_vec[0]"
   ]
  },
  {
   "cell_type": "markdown",
   "metadata": {
    "colab_type": "text",
    "id": "o7p_41ZAA3e5"
   },
   "source": [
    "# 3) Build the model\n",
    "---"
   ]
  },
  {
   "cell_type": "code",
   "execution_count": 24,
   "metadata": {
    "colab": {},
    "colab_type": "code",
    "id": "pzjCx3-yA2VH"
   },
   "outputs": [],
   "source": [
    "model = Word2Vec(new_vec, min_count = 1, size = 32)\n",
    "# text, min word count, size of each vector"
   ]
  },
  {
   "cell_type": "markdown",
   "metadata": {
    "colab_type": "text",
    "id": "pHUvlP_NBIux"
   },
   "source": [
    "# 4) Prediction\n",
    "---"
   ]
  },
  {
   "cell_type": "code",
   "execution_count": 25,
   "metadata": {
    "colab": {
     "base_uri": "https://localhost:8080/",
     "height": 238
    },
    "colab_type": "code",
    "id": "3pW5PKOHBLTK",
    "outputId": "f5fb08f2-1f92-41f2-a172-c3e3d19e218d"
   },
   "outputs": [
    {
     "name": "stderr",
     "output_type": "stream",
     "text": [
      "/usr/local/lib/python3.6/dist-packages/gensim/matutils.py:737: FutureWarning: Conversion of the second argument of issubdtype from `int` to `np.signedinteger` is deprecated. In future, it will be treated as `np.int64 == np.dtype(int).type`.\n",
      "  if np.issubdtype(vec.dtype, np.int):\n"
     ]
    },
    {
     "data": {
      "text/plain": [
       "[('woman', 0.9614757895469666),\n",
       " ('girl', 0.9084784984588623),\n",
       " ('boy', 0.9049885272979736),\n",
       " ('teenager', 0.887347936630249),\n",
       " ('couple', 0.8825281858444214),\n",
       " ('mother', 0.8791694641113281),\n",
       " ('teacher', 0.8633185625076294),\n",
       " ('doctor', 0.8462897539138794),\n",
       " ('father', 0.8423820734024048),\n",
       " ('daughter', 0.834402322769165)]"
      ]
     },
     "execution_count": 25,
     "metadata": {
      "tags": []
     },
     "output_type": "execute_result"
    }
   ],
   "source": [
    "# find 10 closest words in the vector space that we have created\n",
    "model.wv.most_similar('man')"
   ]
  },
  {
   "cell_type": "code",
   "execution_count": 26,
   "metadata": {
    "colab": {
     "base_uri": "https://localhost:8080/",
     "height": 134
    },
    "colab_type": "code",
    "id": "HWy5dT5OL6mm",
    "outputId": "cd66a7d6-60ab-4b08-97fb-5fd167255538"
   },
   "outputs": [
    {
     "data": {
      "text/plain": [
       "array([-1.4602176 , -1.9595683 ,  4.535476  ,  2.7137613 ,  2.7913425 ,\n",
       "        2.6203039 , -3.0124233 ,  3.0069335 , -1.7149007 ,  2.4456196 ,\n",
       "       -4.0629725 ,  3.9683924 , -2.7026136 , -1.9403701 , -3.319267  ,\n",
       "        1.8004957 ,  4.0040917 , -0.79773223, -1.1542594 ,  0.9860294 ,\n",
       "        0.73917013,  1.8245063 ,  1.3079715 ,  2.3284605 , -3.1651723 ,\n",
       "        3.5842786 , -0.9030513 , -1.6465981 , -3.8863165 , -0.75770605,\n",
       "        3.5090864 , -1.345486  ], dtype=float32)"
      ]
     },
     "execution_count": 26,
     "metadata": {
      "tags": []
     },
     "output_type": "execute_result"
    }
   ],
   "source": [
    "# see the vector\n",
    "model.wv['man']\n",
    "# this is how man is represented in our vector space"
   ]
  },
  {
   "cell_type": "code",
   "execution_count": 27,
   "metadata": {
    "colab": {
     "base_uri": "https://localhost:8080/",
     "height": 238
    },
    "colab_type": "code",
    "id": "0v7NpQe9L9r4",
    "outputId": "41a42eb8-496f-4dad-8cb5-9f4fdcce6ce5"
   },
   "outputs": [
    {
     "name": "stderr",
     "output_type": "stream",
     "text": [
      "/usr/local/lib/python3.6/dist-packages/gensim/matutils.py:737: FutureWarning: Conversion of the second argument of issubdtype from `int` to `np.signedinteger` is deprecated. In future, it will be treated as `np.int64 == np.dtype(int).type`.\n",
      "  if np.issubdtype(vec.dtype, np.int):\n"
     ]
    },
    {
     "data": {
      "text/plain": [
       "[('women', 0.6970425844192505),\n",
       " ('religious', 0.6946334838867188),\n",
       " ('clerics', 0.6817834377288818),\n",
       " ('discrimination', 0.6480409502983093),\n",
       " ('Muslim', 0.645355224609375),\n",
       " ('minorities', 0.643412709236145),\n",
       " ('Muslims', 0.6427332162857056),\n",
       " ('organisations', 0.6398724913597107),\n",
       " ('poverty.Extreme', 0.6374896764755249),\n",
       " ('gay', 0.6313363313674927)]"
      ]
     },
     "execution_count": 27,
     "metadata": {
      "tags": []
     },
     "output_type": "execute_result"
    }
   ],
   "source": [
    "# elt us try the famous relationship\n",
    "vec = model.wv['king'] - model.wv['man'] + model.wv['women']\n",
    "model.wv.most_similar([vec])"
   ]
  },
  {
   "cell_type": "code",
   "execution_count": 28,
   "metadata": {
    "colab": {
     "base_uri": "https://localhost:8080/",
     "height": 238
    },
    "colab_type": "code",
    "id": "XSo8KmA2MT3-",
    "outputId": "75e36fd5-f9d0-4cd8-c04e-a5dd31c55465"
   },
   "outputs": [
    {
     "name": "stderr",
     "output_type": "stream",
     "text": [
      "/usr/local/lib/python3.6/dist-packages/gensim/matutils.py:737: FutureWarning: Conversion of the second argument of issubdtype from `int` to `np.signedinteger` is deprecated. In future, it will be treated as `np.int64 == np.dtype(int).type`.\n",
      "  if np.issubdtype(vec.dtype, np.int):\n"
     ]
    },
    {
     "data": {
      "text/plain": [
       "[('Belgium', 0.8639992475509644),\n",
       " ('France', 0.8631689548492432),\n",
       " ('Germany', 0.8304797410964966),\n",
       " ('Paris', 0.7994371056556702),\n",
       " ('Sweden', 0.7919212579727173),\n",
       " ('UK', 0.788618803024292),\n",
       " ('Britain', 0.7670121788978577),\n",
       " ('Brussels', 0.7649995684623718),\n",
       " ('Turkey', 0.7430115938186646),\n",
       " ('Norway', 0.7224845290184021)]"
      ]
     },
     "execution_count": 28,
     "metadata": {
      "tags": []
     },
     "output_type": "execute_result"
    }
   ],
   "source": [
    "# relationship\n",
    "vec = model.wv['Germany'] - model.wv['Berlin'] + model.wv['Paris']\n",
    "model.wv.most_similar([vec])"
   ]
  },
  {
   "cell_type": "code",
   "execution_count": 29,
   "metadata": {
    "colab": {
     "base_uri": "https://localhost:8080/",
     "height": 238
    },
    "colab_type": "code",
    "id": "1jRQPUSsM514",
    "outputId": "a498f06c-5122-4f30-c154-6673effd7a6f"
   },
   "outputs": [
    {
     "name": "stderr",
     "output_type": "stream",
     "text": [
      "/usr/local/lib/python3.6/dist-packages/gensim/matutils.py:737: FutureWarning: Conversion of the second argument of issubdtype from `int` to `np.signedinteger` is deprecated. In future, it will be treated as `np.int64 == np.dtype(int).type`.\n",
      "  if np.issubdtype(vec.dtype, np.int):\n"
     ]
    },
    {
     "data": {
      "text/plain": [
       "[('tricycle', 0.7903921008110046),\n",
       " ('fainted', 0.7723792195320129),\n",
       " ('Rasputin-like', 0.7684838771820068),\n",
       " ('46-year-old', 0.7593949437141418),\n",
       " ('46-year', 0.7553173899650574),\n",
       " ('British-Iranian', 0.7524728775024414),\n",
       " ('77-year-old', 0.7462000250816345),\n",
       " ('10-month-old', 0.743880033493042),\n",
       " ('caucasian', 0.7244365811347961),\n",
       " ('mauling', 0.7212578058242798)]"
      ]
     },
     "execution_count": 29,
     "metadata": {
      "tags": []
     },
     "output_type": "execute_result"
    }
   ],
   "source": [
    "# relationship \n",
    "\n",
    "vec = model.wv['Messi'] - model.wv['Football'] + model.wv['Cricket']\n",
    "model.wv.most_similar([vec])"
   ]
  },
  {
   "cell_type": "code",
   "execution_count": null,
   "metadata": {
    "colab": {},
    "colab_type": "code",
    "id": "PFAsV2a7NHvC"
   },
   "outputs": [],
   "source": []
  }
 ],
 "metadata": {
  "colab": {
   "collapsed_sections": [],
   "name": "train_the_model_for_embeddings.ipynb",
   "provenance": []
  },
  "kernelspec": {
   "display_name": "Python 3",
   "language": "python",
   "name": "python3"
  },
  "language_info": {
   "codemirror_mode": {
    "name": "ipython",
    "version": 3
   },
   "file_extension": ".py",
   "mimetype": "text/x-python",
   "name": "python",
   "nbconvert_exporter": "python",
   "pygments_lexer": "ipython3",
   "version": "3.7.7"
  }
 },
 "nbformat": 4,
 "nbformat_minor": 1
}
